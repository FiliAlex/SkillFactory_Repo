{
 "cells": [
  {
   "cell_type": "code",
   "execution_count": 18,
   "metadata": {},
   "outputs": [
    {
     "name": "stdout",
     "output_type": "stream",
     "text": [
      "Загаданное число 14\n",
      "win iteration =  9\n",
      "14 14 [13]\n"
     ]
    }
   ],
   "source": [
    "import numpy as np\n",
    "number = np.random.randint(1,101)\n",
    "\n",
    "print('Загаданное число',number)\n",
    "\n",
    "i = 1\n",
    "u = 50\n",
    "interval=[]\n",
    "limit_min=0\n",
    "limit_max=100\n",
    "\n",
    "while i <= 100:    ##### пробуем это сделать в цикл while, авось получится\n",
    "    if u == number:\n",
    "        print(\"win\",'iteration = ',i)\n",
    "        break\n",
    "\n",
    "    elif len(interval) == 1:\n",
    "        u = interval[0]\n",
    "    \n",
    "    elif u > number:\n",
    "#   print('1st - u',u,'> number',number,interval,'iteration=',i,'min=',limit_min,'max=',limit_max)\n",
    "        interval=[]\n",
    "        for x in range(limit_min,u):\n",
    "            interval.append(x)\n",
    "        u = round((interval[0]+interval[-1])/2)-1\n",
    "        limit_max = interval[-1]\n",
    "#   print('do: u=',u,'min=',limit_min,'max=',limit_max,interval)\n",
    "\n",
    "        \n",
    "    elif u < number:\n",
    "#   print('2nd - u',u,'< number',number,interval,'iteration=',i,'min=',limit_min,'max=',limit_max)\n",
    "        interval=[]\n",
    "        for x in range(u,limit_max):\n",
    "            interval.append(x)\n",
    "\n",
    "        u = round((interval[0]+interval[-1])/2)+1\n",
    "        limit_min = interval[0]\n",
    "#   print('do: u=',u,'min=',limit_min,'max=',limit_max,interval)\n",
    "        \n",
    "    i += 1\n",
    "print(u,number, interval)\n",
    "\n",
    "## Hello World"
   ]
  }
 ],
 "metadata": {
  "kernelspec": {
   "display_name": "Python 3",
   "language": "python",
   "name": "python3"
  },
  "language_info": {
   "codemirror_mode": {
    "name": "ipython",
    "version": 3
   },
   "file_extension": ".py",
   "mimetype": "text/x-python",
   "name": "python",
   "nbconvert_exporter": "python",
   "pygments_lexer": "ipython3",
   "version": "3.8.5"
  }
 },
 "nbformat": 4,
 "nbformat_minor": 4
}
